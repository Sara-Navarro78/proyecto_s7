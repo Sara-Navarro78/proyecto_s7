{
 "cells": [
  {
   "cell_type": "code",
   "execution_count": null,
   "id": "d6b4f199",
   "metadata": {},
   "outputs": [
    {
     "ename": "NameError",
     "evalue": "name 'st' is not defined",
     "output_type": "error",
     "traceback": [
      "\u001b[31m---------------------------------------------------------------------------\u001b[39m",
      "\u001b[31mNameError\u001b[39m                                 Traceback (most recent call last)",
      "\u001b[36mCell\u001b[39m\u001b[36m \u001b[39m\u001b[32mIn[7]\u001b[39m\u001b[32m, line 8\u001b[39m\n\u001b[32m      6\u001b[39m car_data = pd.read_csv(\u001b[33m'\u001b[39m\u001b[33mvehicles_us.csv\u001b[39m\u001b[33m'\u001b[39m) \u001b[38;5;66;03m# leer los datos\u001b[39;00m\n\u001b[32m      7\u001b[39m fig = px.histogram(car_data, x=\u001b[33m\"\u001b[39m\u001b[33modometer\u001b[39m\u001b[33m\"\u001b[39m) \u001b[38;5;66;03m# crear un histograma\u001b[39;00m\n\u001b[32m----> \u001b[39m\u001b[32m8\u001b[39m \u001b[43mst\u001b[49m.plotly_chart(fig, use_container_width=\u001b[38;5;28;01mTrue\u001b[39;00m)\n\u001b[32m      9\u001b[39m \u001b[38;5;66;03m#fig.show() # crear gráfico de dispersión\u001b[39;00m\n",
      "\u001b[31mNameError\u001b[39m: name 'st' is not defined"
     ]
    }
   ],
   "source": [
    "# Construir un histograma con plotly-express:\n",
    "\n",
    "import pandas as pd\n",
    "import plotly.express as px\n",
    "\n",
    "car_data = pd.read_csv('vehicles_us.csv') # leer los datos\n",
    "fig = px.histogram(car_data, x=\"odometer\") # crear un histograma\n",
    "fig.show() # crear gráfico de dispersión"
   ]
  },
  {
   "cell_type": "code",
   "execution_count": 2,
   "id": "fbb36f7e",
   "metadata": {},
   "outputs": [
    {
     "name": "stdout",
     "output_type": "stream",
     "text": [
      "Collecting nbformat\n",
      "  Using cached nbformat-5.10.4-py3-none-any.whl.metadata (3.6 kB)\n",
      "Collecting fastjsonschema>=2.15 (from nbformat)\n",
      "  Using cached fastjsonschema-2.21.1-py3-none-any.whl.metadata (2.2 kB)\n",
      "Requirement already satisfied: jsonschema>=2.6 in c:\\users\\sara navarro\\desktop\\tripleten - data analysis\\proyectos de tripleten\\proyecto de sprint 7\\p7\\lib\\site-packages (from nbformat) (4.23.0)\n",
      "Requirement already satisfied: jupyter-core!=5.0.*,>=4.12 in c:\\users\\sara navarro\\desktop\\tripleten - data analysis\\proyectos de tripleten\\proyecto de sprint 7\\p7\\lib\\site-packages (from nbformat) (5.7.2)\n",
      "Requirement already satisfied: traitlets>=5.1 in c:\\users\\sara navarro\\desktop\\tripleten - data analysis\\proyectos de tripleten\\proyecto de sprint 7\\p7\\lib\\site-packages (from nbformat) (5.14.3)\n",
      "Requirement already satisfied: attrs>=22.2.0 in c:\\users\\sara navarro\\desktop\\tripleten - data analysis\\proyectos de tripleten\\proyecto de sprint 7\\p7\\lib\\site-packages (from jsonschema>=2.6->nbformat) (25.3.0)\n",
      "Requirement already satisfied: jsonschema-specifications>=2023.03.6 in c:\\users\\sara navarro\\desktop\\tripleten - data analysis\\proyectos de tripleten\\proyecto de sprint 7\\p7\\lib\\site-packages (from jsonschema>=2.6->nbformat) (2025.4.1)\n",
      "Requirement already satisfied: referencing>=0.28.4 in c:\\users\\sara navarro\\desktop\\tripleten - data analysis\\proyectos de tripleten\\proyecto de sprint 7\\p7\\lib\\site-packages (from jsonschema>=2.6->nbformat) (0.36.2)\n",
      "Requirement already satisfied: rpds-py>=0.7.1 in c:\\users\\sara navarro\\desktop\\tripleten - data analysis\\proyectos de tripleten\\proyecto de sprint 7\\p7\\lib\\site-packages (from jsonschema>=2.6->nbformat) (0.25.1)\n",
      "Requirement already satisfied: platformdirs>=2.5 in c:\\users\\sara navarro\\desktop\\tripleten - data analysis\\proyectos de tripleten\\proyecto de sprint 7\\p7\\lib\\site-packages (from jupyter-core!=5.0.*,>=4.12->nbformat) (4.3.8)\n",
      "Requirement already satisfied: pywin32>=300 in c:\\users\\sara navarro\\desktop\\tripleten - data analysis\\proyectos de tripleten\\proyecto de sprint 7\\p7\\lib\\site-packages (from jupyter-core!=5.0.*,>=4.12->nbformat) (310)\n",
      "Using cached nbformat-5.10.4-py3-none-any.whl (78 kB)\n",
      "Using cached fastjsonschema-2.21.1-py3-none-any.whl (23 kB)\n",
      "Installing collected packages: fastjsonschema, nbformat\n",
      "Successfully installed fastjsonschema-2.21.1 nbformat-5.10.4\n"
     ]
    },
    {
     "name": "stderr",
     "output_type": "stream",
     "text": [
      "\n",
      "[notice] A new release of pip is available: 25.0.1 -> 25.1.1\n",
      "[notice] To update, run: python.exe -m pip install --upgrade pip\n"
     ]
    }
   ],
   "source": [
    "!pip install nbformat"
   ]
  },
  {
   "cell_type": "code",
   "execution_count": null,
   "id": "60afb411",
   "metadata": {},
   "outputs": [
    {
     "ename": "NameError",
     "evalue": "name 'st' is not defined",
     "output_type": "error",
     "traceback": [
      "\u001b[31m---------------------------------------------------------------------------\u001b[39m",
      "\u001b[31mNameError\u001b[39m                                 Traceback (most recent call last)",
      "\u001b[36mCell\u001b[39m\u001b[36m \u001b[39m\u001b[32mIn[8]\u001b[39m\u001b[32m, line 7\u001b[39m\n\u001b[32m      5\u001b[39m car_data = pd.read_csv(\u001b[33m'\u001b[39m\u001b[33mvehicles_us.csv\u001b[39m\u001b[33m'\u001b[39m) \u001b[38;5;66;03m# leer los datos\u001b[39;00m\n\u001b[32m      6\u001b[39m fig = px.scatter(car_data, x=\u001b[33m\"\u001b[39m\u001b[33modometer\u001b[39m\u001b[33m\"\u001b[39m, y=\u001b[33m\"\u001b[39m\u001b[33mprice\u001b[39m\u001b[33m\"\u001b[39m) \u001b[38;5;66;03m# crear un gráfico de dispersión\u001b[39;00m\n\u001b[32m----> \u001b[39m\u001b[32m7\u001b[39m \u001b[43mst\u001b[49m.plotly_chart(fig, use_container_width=\u001b[38;5;28;01mTrue\u001b[39;00m)\n\u001b[32m      8\u001b[39m \u001b[38;5;66;03m#fig.show() # crear gráfico de dispersión\u001b[39;00m\n",
      "\u001b[31mNameError\u001b[39m: name 'st' is not defined"
     ]
    }
   ],
   "source": [
    "# Construir un gráfico de dispersión en esta librería\n",
    "import pandas as pd\n",
    "import plotly.express as px\n",
    "\n",
    "car_data = pd.read_csv('vehicles_us.csv') # leer los datos\n",
    "fig = px.scatter(car_data, x=\"odometer\", y=\"price\") # crear un gráfico de dispersión\n",
    "fig.show() # crear gráfico de dispersión"
   ]
  },
  {
   "cell_type": "code",
   "execution_count": null,
   "id": "cb708aa1",
   "metadata": {},
   "outputs": [],
   "source": []
  }
 ],
 "metadata": {
  "kernelspec": {
   "display_name": "p7",
   "language": "python",
   "name": "python3"
  },
  "language_info": {
   "codemirror_mode": {
    "name": "ipython",
    "version": 3
   },
   "file_extension": ".py",
   "mimetype": "text/x-python",
   "name": "python",
   "nbconvert_exporter": "python",
   "pygments_lexer": "ipython3",
   "version": "3.13.3"
  }
 },
 "nbformat": 4,
 "nbformat_minor": 5
}
